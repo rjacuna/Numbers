{
 "cells": [
  {
   "cell_type": "code",
   "execution_count": 1,
   "metadata": {
    "collapsed": true
   },
   "outputs": [],
   "source": [
    "from sympy import *\n",
    "init_printing(use_unicode=True)"
   ]
  },
  {
   "cell_type": "markdown",
   "metadata": {},
   "source": [
    "$48x - 156y = 66$\n",
    "\n",
    "$8x - 26y = 11$"
   ]
  },
  {
   "cell_type": "code",
   "execution_count": 2,
   "metadata": {},
   "outputs": [
    {
     "data": {
      "image/png": "[encoded data removed]",
      "text/latex": [
       "$$\\left[\\begin{matrix}64 & -208\\\\-208 & 676\\end{matrix}\\right]$$"
      ],
      "text/plain": [
       "⎡ 64   -208⎤\n",
       "⎢          ⎥\n",
       "⎣-208  676 ⎦"
      ]
     },
     "execution_count": 2,
     "metadata": {},
     "output_type": "execute_result"
    }
   ],
   "source": [
    "M = Matrix([8,-26]).T\n",
    "N = M.T\n",
    "MN = M*N\n",
    "NM = N*M\n",
    "NM"
   ]
  },
  {
   "cell_type": "code",
   "execution_count": 3,
   "metadata": {},
   "outputs": [
    {
     "data": {
      "image/png": "[encoded data removed]",
      "text/latex": [
       "$$\\left [ \\left ( 0, \\quad 1, \\quad \\left [ \\left[\\begin{matrix}\\frac{13}{4}\\\\1\\end{matrix}\\right]\\right ]\\right ), \\quad \\left ( 740, \\quad 1, \\quad \\left [ \\left[\\begin{matrix}- \\frac{4}{13}\\\\1\\end{matrix}\\right]\\right ]\\right )\\right ]$$"
      ],
      "text/plain": [
       "⎡⎛      ⎡⎡13/4⎤⎤⎞  ⎛        ⎡⎡-4/13⎤⎤⎞⎤\n",
       "⎢⎜0, 1, ⎢⎢    ⎥⎥⎟, ⎜740, 1, ⎢⎢     ⎥⎥⎟⎥\n",
       "⎣⎝      ⎣⎣ 1  ⎦⎦⎠  ⎝        ⎣⎣  1  ⎦⎦⎠⎦"
      ]
     },
     "execution_count": 3,
     "metadata": {},
     "output_type": "execute_result"
    }
   ],
   "source": [
    "NM.eigenvects()"
   ]
  },
  {
   "cell_type": "code",
   "execution_count": 4,
   "metadata": {},
   "outputs": [
    {
     "data": {
      "image/png": "[encoded data removed]",
      "text/latex": [
       "$$\\left ( \\left[\\begin{matrix}13 & -4\\\\4 & 13\\end{matrix}\\right], \\quad \\left[\\begin{matrix}0 & 0\\\\0 & 740\\end{matrix}\\right]\\right )$$"
      ],
      "text/plain": [
       "⎛⎡13  -4⎤  ⎡0   0 ⎤⎞\n",
       "⎜⎢      ⎥, ⎢      ⎥⎟\n",
       "⎝⎣4   13⎦  ⎣0  740⎦⎠"
      ]
     },
     "execution_count": 4,
     "metadata": {},
     "output_type": "execute_result"
    }
   ],
   "source": [
    "NM.diagonalize()"
   ]
  },
  {
   "cell_type": "code",
   "execution_count": 5,
   "metadata": {},
   "outputs": [
    {
     "data": {
      "image/png": "[encoded data removed]",
      "text/latex": [
       "$$\\left ( \\left[\\begin{matrix}- \\frac{4 \\sqrt{185}}{153} & - \\frac{13 \\sqrt{185}}{153}\\\\- \\frac{13 \\sqrt{185}}{153} & - \\frac{4 \\sqrt{185}}{153}\\end{matrix}\\right], \\quad \\left[\\begin{matrix}\\frac{4 \\sqrt{185}}{185} & - \\frac{13 \\sqrt{185}}{185}\\\\- \\frac{13 \\sqrt{185}}{185} & \\frac{4 \\sqrt{185}}{185}\\end{matrix}\\right]\\right )$$"
      ],
      "text/plain": [
       "⎛⎡-4⋅√185    -13⋅√185 ⎤  ⎡ 4⋅√185    -13⋅√185 ⎤⎞\n",
       "⎜⎢────────   ─────────⎥  ⎢ ──────    ─────────⎥⎟\n",
       "⎜⎢  153         153   ⎥  ⎢  185         185   ⎥⎟\n",
       "⎜⎢                    ⎥, ⎢                    ⎥⎟\n",
       "⎜⎢-13⋅√185   -4⋅√185  ⎥  ⎢-13⋅√185    4⋅√185  ⎥⎟\n",
       "⎜⎢─────────  ──────── ⎥  ⎢─────────   ──────  ⎥⎟\n",
       "⎝⎣   153       153    ⎦  ⎣   185       185    ⎦⎠"
      ]
     },
     "execution_count": 5,
     "metadata": {},
     "output_type": "execute_result"
    }
   ],
   "source": [
    "V = NM.diagonalize()[0]\n",
    "V =V.col(1).col_insert(1,(V.col(0)))/sqrt(185)\n",
    "VC = Matrix([[4,-13],[-13,4]])/sqrt(185)\n",
    "V = VC.inv()\n",
    "(V,VC)"
   ]
  },
  {
   "cell_type": "code",
   "execution_count": 6,
   "metadata": {},
   "outputs": [
    {
     "data": {
      "image/png": "[encoded data removed]",
      "text/latex": [
       "$$\\left[\\begin{matrix}0 & 0\\\\0 & 740\\end{matrix}\\right]$$"
      ],
      "text/plain": [
       "⎡0   0 ⎤\n",
       "⎢      ⎥\n",
       "⎣0  740⎦"
      ]
     },
     "execution_count": 6,
     "metadata": {},
     "output_type": "execute_result"
    }
   ],
   "source": [
    "L = NM.diagonalize()[1]\n",
    "L"
   ]
  },
  {
   "cell_type": "code",
   "execution_count": 7,
   "metadata": {},
   "outputs": [
    {
     "data": {
      "image/png": "[encoded data removed]",
      "text/latex": [
       "$$\\left[\\begin{matrix}2 \\sqrt{185} & 0\\end{matrix}\\right]$$"
      ],
      "text/plain": [
       "[2⋅√185  0]"
      ]
     },
     "execution_count": 7,
     "metadata": {},
     "output_type": "execute_result"
    }
   ],
   "source": [
    "S= Matrix([sqrt(740),0]).T\n",
    "S"
   ]
  },
  {
   "cell_type": "code",
   "execution_count": 8,
   "metadata": {},
   "outputs": [
    {
     "data": {
      "image/png": "[encoded data removed]",
      "text/latex": [
       "$$\\left[\\begin{matrix}8 & -26\\end{matrix}\\right]$$"
      ],
      "text/plain": [
       "[8  -26]"
      ]
     },
     "execution_count": 8,
     "metadata": {},
     "output_type": "execute_result"
    }
   ],
   "source": [
    "Matrix([sqrt(740),0]).T*VC"
   ]
  },
  {
   "cell_type": "code",
   "execution_count": 9,
   "metadata": {
    "collapsed": true
   },
   "outputs": [],
   "source": [
    "from sympy.vector import CoordSys3D"
   ]
  },
  {
   "cell_type": "code",
   "execution_count": 10,
   "metadata": {},
   "outputs": [
    {
     "data": {
      "image/png": "[encoded data removed]",
      "text/latex": [
       "$$(\\frac{4 \\sqrt{185}}{185})\\mathbf{\\hat{i}_{C}} + (- \\frac{13 \\sqrt{185}}{185})\\mathbf{\\hat{j}_{C}}$$"
      ],
      "text/plain": [
       "⎛4⋅√185⎞ C_i + ⎛-13⋅√185 ⎞ C_j\n",
       "⎜──────⎟       ⎜─────────⎟    \n",
       "⎝ 185  ⎠       ⎝   185   ⎠    "
      ]
     },
     "execution_count": 10,
     "metadata": {},
     "output_type": "execute_result"
    }
   ],
   "source": [
    "C = CoordSys3D('C')\n",
    "v = (4/sqrt(185))*C.i -1*(13/sqrt(185))*C.j \n",
    "v"
   ]
  },
  {
   "cell_type": "code",
   "execution_count": 11,
   "metadata": {},
   "outputs": [
    {
     "data": {
      "image/png": "[encoded data removed]",
      "text/latex": [
       "$$1$$"
      ],
      "text/plain": [
       "1"
      ]
     },
     "execution_count": 11,
     "metadata": {},
     "output_type": "execute_result"
    }
   ],
   "source": [
    "v.magnitude()"
   ]
  },
  {
   "cell_type": "code",
   "execution_count": 13,
   "metadata": {},
   "outputs": [
    {
     "data": {
      "image/png": "[encoded data removed]",
      "text/latex": [
       "$$\\left[\\begin{matrix}1\\end{matrix}\\right]$$"
      ],
      "text/plain": [
       "[1]"
      ]
     },
     "execution_count": 13,
     "metadata": {},
     "output_type": "execute_result"
    }
   ],
   "source": [
    "U = Matrix([1])\n",
    "U"
   ]
  },
  {
   "cell_type": "code",
   "execution_count": 14,
   "metadata": {},
   "outputs": [
    {
     "data": {
      "image/png": "[encoded data removed]",
      "text/latex": [
       "$$\\left[\\begin{matrix}1\\end{matrix}\\right]$$"
      ],
      "text/plain": [
       "[1]"
      ]
     },
     "execution_count": 14,
     "metadata": {},
     "output_type": "execute_result"
    }
   ],
   "source": [
    "UC = U.T\n",
    "UC"
   ]
  },
  {
   "cell_type": "code",
   "execution_count": 15,
   "metadata": {},
   "outputs": [
    {
     "data": {
      "image/png": "[encoded data removed]",
      "text/latex": [
       "$$\\left[\\begin{matrix}8 & -26\\end{matrix}\\right]$$"
      ],
      "text/plain": [
       "[8  -26]"
      ]
     },
     "execution_count": 15,
     "metadata": {},
     "output_type": "execute_result"
    }
   ],
   "source": [
    "A = U*S*VC\n",
    "A"
   ]
  },
  {
   "cell_type": "code",
   "execution_count": 16,
   "metadata": {},
   "outputs": [
    {
     "data": {
      "image/png": "[encoded data removed]",
      "text/latex": [
       "$$\\left[\\begin{matrix}\\frac{\\sqrt{185}}{370}\\\\0\\end{matrix}\\right]$$"
      ],
      "text/plain": [
       "⎡√185⎤\n",
       "⎢────⎥\n",
       "⎢370 ⎥\n",
       "⎢    ⎥\n",
       "⎣ 0  ⎦"
      ]
     },
     "execution_count": 16,
     "metadata": {},
     "output_type": "execute_result"
    }
   ],
   "source": [
    "SP = Matrix([1/sqrt(740),0])\n",
    "SP"
   ]
  },
  {
   "cell_type": "code",
   "execution_count": 17,
   "metadata": {},
   "outputs": [
    {
     "data": {
      "image/png": "[encoded data removed]",
      "text/latex": [
       "$$\\left[\\begin{matrix}- \\frac{2}{153}\\\\- \\frac{13}{306}\\end{matrix}\\right]$$"
      ],
      "text/plain": [
       "⎡-2/153⎤\n",
       "⎢      ⎥\n",
       "⎢ -13  ⎥\n",
       "⎢ ──── ⎥\n",
       "⎣ 306  ⎦"
      ]
     },
     "execution_count": 17,
     "metadata": {},
     "output_type": "execute_result"
    }
   ],
   "source": [
    "M1 = V*SP*UC\n",
    "M1"
   ]
  },
  {
   "cell_type": "code",
   "execution_count": 18,
   "metadata": {},
   "outputs": [
    {
     "data": {
      "image/png": "[encoded data removed]",
      "text/latex": [
       "$$\\left[\\begin{matrix}1\\end{matrix}\\right]$$"
      ],
      "text/plain": [
       "[1]"
      ]
     },
     "execution_count": 18,
     "metadata": {},
     "output_type": "execute_result"
    }
   ],
   "source": [
    "M*M1"
   ]
  },
  {
   "cell_type": "code",
   "execution_count": 19,
   "metadata": {},
   "outputs": [
    {
     "data": {
      "image/png": "[encoded data removed]",
      "text/latex": [
       "$$\\left[\\begin{matrix}- \\frac{16}{153} & \\frac{52}{153}\\\\- \\frac{52}{153} & \\frac{169}{153}\\end{matrix}\\right]$$"
      ],
      "text/plain": [
       "⎡-16    52⎤\n",
       "⎢────  ───⎥\n",
       "⎢153   153⎥\n",
       "⎢         ⎥\n",
       "⎢-52   169⎥\n",
       "⎢────  ───⎥\n",
       "⎣153   153⎦"
      ]
     },
     "execution_count": 19,
     "metadata": {},
     "output_type": "execute_result"
    }
   ],
   "source": [
    "M1*M"
   ]
  },
  {
   "cell_type": "code",
   "execution_count": 20,
   "metadata": {
    "collapsed": true
   },
   "outputs": [],
   "source": [
    "x,y = symbols(\"x y\")"
   ]
  },
  {
   "cell_type": "code",
   "execution_count": 21,
   "metadata": {},
   "outputs": [
    {
     "data": {
      "image/png": "[encoded data removed]",
      "text/latex": [
       "$$\\left[\\begin{matrix}x\\\\y\\end{matrix}\\right]$$"
      ],
      "text/plain": [
       "⎡x⎤\n",
       "⎢ ⎥\n",
       "⎣y⎦"
      ]
     },
     "execution_count": 21,
     "metadata": {},
     "output_type": "execute_result"
    }
   ],
   "source": [
    "u = Matrix([x,y])\n",
    "u"
   ]
  },
  {
   "cell_type": "code",
   "execution_count": 22,
   "metadata": {},
   "outputs": [
    {
     "data": {
      "image/png": "[encoded data removed]",
      "text/latex": [
       "$$\\left[\\begin{matrix}114444\\end{matrix}\\right]$$"
      ],
      "text/plain": [
       "[114444]"
      ]
     },
     "execution_count": 22,
     "metadata": {},
     "output_type": "execute_result"
    }
   ],
   "source": [
    "M*M1*11*68*51*3"
   ]
  },
  {
   "cell_type": "code",
   "execution_count": 23,
   "metadata": {},
   "outputs": [
    {
     "data": {
      "image/png": "[encoded data removed]",
      "text/latex": [
       "$$\\left[\\begin{matrix}66\\end{matrix}\\right]$$"
      ],
      "text/plain": [
       "[66]"
      ]
     },
     "execution_count": 23,
     "metadata": {},
     "output_type": "execute_result"
    }
   ],
   "source": [
    "M*M1*11*6"
   ]
  },
  {
   "cell_type": "code",
   "execution_count": 24,
   "metadata": {},
   "outputs": [
    {
     "data": {
      "image/png": "[encoded data removed]",
      "text/latex": [
       "$$\\left[\\begin{matrix}- \\frac{22}{153}\\\\- \\frac{143}{306}\\end{matrix}\\right]$$"
      ],
      "text/plain": [
       "⎡-22  ⎤\n",
       "⎢──── ⎥\n",
       "⎢153  ⎥\n",
       "⎢     ⎥\n",
       "⎢-143 ⎥\n",
       "⎢─────⎥\n",
       "⎣ 306 ⎦"
      ]
     },
     "execution_count": 24,
     "metadata": {},
     "output_type": "execute_result"
    }
   ],
   "source": [
    "M11 = M1*11\n",
    "M11"
   ]
  },
  {
   "cell_type": "code",
   "execution_count": 25,
   "metadata": {
    "collapsed": true
   },
   "outputs": [],
   "source": [
    "def f(v):\n",
    "   return M1*11 + (Matrix([[1,0],[0,1]])-M1*M)*Matrix([v[0],v[1]])"
   ]
  },
  {
   "cell_type": "code",
   "execution_count": 43,
   "metadata": {},
   "outputs": [
    {
     "data": {
      "image/png": "[encoded data removed]",
      "text/latex": [
       "$$\\left[\\begin{matrix}11\\end{matrix}\\right]$$"
      ],
      "text/plain": [
       "[11]"
      ]
     },
     "execution_count": 43,
     "metadata": {},
     "output_type": "execute_result"
    }
   ],
   "source": [
    "M*f([153,306])"
   ]
  },
  {
   "cell_type": "code",
   "execution_count": 26,
   "metadata": {},
   "outputs": [
    {
     "data": {
      "image/png": "[encoded data removed]",
      "text/latex": [
       "$$\\left[\\begin{matrix}\\frac{9923}{153}\\\\\\frac{5977}{306}\\end{matrix}\\right]$$"
      ],
      "text/plain": [
       "⎡9923⎤\n",
       "⎢────⎥\n",
       "⎢153 ⎥\n",
       "⎢    ⎥\n",
       "⎢5977⎥\n",
       "⎢────⎥\n",
       "⎣306 ⎦"
      ]
     },
     "execution_count": 26,
     "metadata": {},
     "output_type": "execute_result"
    }
   ],
   "source": [
    "f([153,306])"
   ]
  },
  {
   "cell_type": "code",
   "execution_count": 27,
   "metadata": {},
   "outputs": [
    {
     "data": {
      "image/png": "[encoded data removed]",
      "text/latex": [
       "$$\\left[\\begin{matrix}\\frac{43736}{153}\\\\\\frac{26785}{306}\\end{matrix}\\right]$$"
      ],
      "text/plain": [
       "⎡43736⎤\n",
       "⎢─────⎥\n",
       "⎢ 153 ⎥\n",
       "⎢     ⎥\n",
       "⎢26785⎥\n",
       "⎢─────⎥\n",
       "⎣ 306 ⎦"
      ]
     },
     "execution_count": 27,
     "metadata": {},
     "output_type": "execute_result"
    }
   ],
   "source": [
    "f([306,153])"
   ]
  },
  {
   "cell_type": "code",
   "execution_count": 29,
   "metadata": {},
   "outputs": [
    {
     "data": {
      "image/png": "[encoded data removed]",
      "text/latex": [
       "$$\\left[\\begin{matrix}- \\frac{220}{9}\\\\- \\frac{143}{18}\\end{matrix}\\right]$$"
      ],
      "text/plain": [
       "⎡-220/9⎤\n",
       "⎢      ⎥\n",
       "⎢-143  ⎥\n",
       "⎢───── ⎥\n",
       "⎣  18  ⎦"
      ]
     },
     "execution_count": 29,
     "metadata": {},
     "output_type": "execute_result"
    }
   ],
   "source": [
    "f([22,143])"
   ]
  },
  {
   "cell_type": "code",
   "execution_count": 28,
   "metadata": {},
   "outputs": [
    {
     "data": {
      "image/png": "[encoded data removed]",
      "text/latex": [
       "$$\\left[\\begin{matrix}8.21604938271605\\\\2.10493827160494\\end{matrix}\\right]$$"
      ],
      "text/plain": [
       "⎡8.21604938271605⎤\n",
       "⎢                ⎥\n",
       "⎣2.10493827160494⎦"
      ]
     },
     "execution_count": 28,
     "metadata": {},
     "output_type": "execute_result"
    }
   ],
   "source": [
    "f([143/18,22/18])"
   ]
  },
  {
   "cell_type": "code",
   "execution_count": 30,
   "metadata": {
    "collapsed": true
   },
   "outputs": [],
   "source": [
    "import numbers"
   ]
  },
  {
   "cell_type": "code",
   "execution_count": null,
   "metadata": {},
   "outputs": [
    {
     "data": {
      "image/png": "[encoded data removed]",
      "text/latex": [
       "$$\\left [ \\left[\\begin{matrix}-10\\\\- \\frac{7}{2}\\end{matrix}\\right], \\quad \\left[\\begin{matrix}-23\\\\- \\frac{15}{2}\\end{matrix}\\right], \\quad \\left[\\begin{matrix}-10\\\\- \\frac{7}{2}\\end{matrix}\\right], \\quad \\left[\\begin{matrix}3\\\\\\frac{1}{2}\\end{matrix}\\right], \\quad \\left[\\begin{matrix}-10\\\\- \\frac{7}{2}\\end{matrix}\\right], \\quad \\left[\\begin{matrix}3\\\\\\frac{1}{2}\\end{matrix}\\right], \\quad \\left[\\begin{matrix}-10\\\\- \\frac{7}{2}\\end{matrix}\\right], \\quad \\left[\\begin{matrix}3\\\\\\frac{1}{2}\\end{matrix}\\right], \\quad \\left[\\begin{matrix}3\\\\\\frac{1}{2}\\end{matrix}\\right], \\quad \\left[\\begin{matrix}16\\\\\\frac{9}{2}\\end{matrix}\\right], \\quad \\left[\\begin{matrix}3\\\\\\frac{1}{2}\\end{matrix}\\right], \\quad \\left[\\begin{matrix}16\\\\\\frac{9}{2}\\end{matrix}\\right], \\quad \\left[\\begin{matrix}3\\\\\\frac{1}{2}\\end{matrix}\\right], \\quad \\left[\\begin{matrix}16\\\\\\frac{9}{2}\\end{matrix}\\right], \\quad \\left[\\begin{matrix}29\\\\\\frac{17}{2}\\end{matrix}\\right], \\quad \\left[\\begin{matrix}16\\\\\\frac{9}{2}\\end{matrix}\\right], \\quad \\left[\\begin{matrix}29\\\\\\frac{17}{2}\\end{matrix}\\right], \\quad \\left[\\begin{matrix}16\\\\\\frac{9}{2}\\end{matrix}\\right], \\quad \\left[\\begin{matrix}29\\\\\\frac{17}{2}\\end{matrix}\\right], \\quad \\left[\\begin{matrix}16\\\\\\frac{9}{2}\\end{matrix}\\right], \\quad \\left[\\begin{matrix}29\\\\\\frac{17}{2}\\end{matrix}\\right], \\quad \\left[\\begin{matrix}42\\\\\\frac{25}{2}\\end{matrix}\\right], \\quad \\left[\\begin{matrix}29\\\\\\frac{17}{2}\\end{matrix}\\right], \\quad \\left[\\begin{matrix}42\\\\\\frac{25}{2}\\end{matrix}\\right], \\quad \\left[\\begin{matrix}29\\\\\\frac{17}{2}\\end{matrix}\\right], \\quad \\left[\\begin{matrix}42\\\\\\frac{25}{2}\\end{matrix}\\right], \\quad \\left[\\begin{matrix}42\\\\\\frac{25}{2}\\end{matrix}\\right], \\quad \\left[\\begin{matrix}55\\\\\\frac{33}{2}\\end{matrix}\\right], \\quad \\left[\\begin{matrix}42\\\\\\frac{25}{2}\\end{matrix}\\right], \\quad \\left[\\begin{matrix}55\\\\\\frac{33}{2}\\end{matrix}\\right], \\quad \\left[\\begin{matrix}42\\\\\\frac{25}{2}\\end{matrix}\\right], \\quad \\left[\\begin{matrix}55\\\\\\frac{33}{2}\\end{matrix}\\right], \\quad \\left[\\begin{matrix}68\\\\\\frac{41}{2}\\end{matrix}\\right], \\quad \\left[\\begin{matrix}55\\\\\\frac{33}{2}\\end{matrix}\\right], \\quad \\left[\\begin{matrix}68\\\\\\frac{41}{2}\\end{matrix}\\right], \\quad \\left[\\begin{matrix}55\\\\\\frac{33}{2}\\end{matrix}\\right], \\quad \\left[\\begin{matrix}68\\\\\\frac{41}{2}\\end{matrix}\\right], \\quad \\left[\\begin{matrix}55\\\\\\frac{33}{2}\\end{matrix}\\right], \\quad \\left[\\begin{matrix}68\\\\\\frac{41}{2}\\end{matrix}\\right], \\quad \\left[\\begin{matrix}81\\\\\\frac{49}{2}\\end{matrix}\\right], \\quad \\left[\\begin{matrix}68\\\\\\frac{41}{2}\\end{matrix}\\right], \\quad \\left[\\begin{matrix}81\\\\\\frac{49}{2}\\end{matrix}\\right]\\right ]$$"
      ],
      "text/plain": [
       "⎡⎡-10 ⎤  ⎡ -23 ⎤  ⎡-10 ⎤  ⎡ 3 ⎤  ⎡-10 ⎤  ⎡ 3 ⎤  ⎡-10 ⎤  ⎡ 3 ⎤  ⎡ 3 ⎤  ⎡16 ⎤  ⎡\n",
       "⎢⎢    ⎥, ⎢     ⎥, ⎢    ⎥, ⎢   ⎥, ⎢    ⎥, ⎢   ⎥, ⎢    ⎥, ⎢   ⎥, ⎢   ⎥, ⎢   ⎥, ⎢\n",
       "⎣⎣-7/2⎦  ⎣-15/2⎦  ⎣-7/2⎦  ⎣1/2⎦  ⎣-7/2⎦  ⎣1/2⎦  ⎣-7/2⎦  ⎣1/2⎦  ⎣1/2⎦  ⎣9/2⎦  ⎣\n",
       "\n",
       " 3 ⎤  ⎡16 ⎤  ⎡ 3 ⎤  ⎡16 ⎤  ⎡ 29 ⎤  ⎡16 ⎤  ⎡ 29 ⎤  ⎡16 ⎤  ⎡ 29 ⎤  ⎡16 ⎤  ⎡ 29 ⎤\n",
       "   ⎥, ⎢   ⎥, ⎢   ⎥, ⎢   ⎥, ⎢    ⎥, ⎢   ⎥, ⎢    ⎥, ⎢   ⎥, ⎢    ⎥, ⎢   ⎥, ⎢    ⎥\n",
       "1/2⎦  ⎣9/2⎦  ⎣1/2⎦  ⎣9/2⎦  ⎣17/2⎦  ⎣9/2⎦  ⎣17/2⎦  ⎣9/2⎦  ⎣17/2⎦  ⎣9/2⎦  ⎣17/2⎦\n",
       "\n",
       "  ⎡ 42 ⎤  ⎡ 29 ⎤  ⎡ 42 ⎤  ⎡ 29 ⎤  ⎡ 42 ⎤  ⎡ 42 ⎤  ⎡ 55 ⎤  ⎡ 42 ⎤  ⎡ 55 ⎤  ⎡ 42\n",
       ", ⎢    ⎥, ⎢    ⎥, ⎢    ⎥, ⎢    ⎥, ⎢    ⎥, ⎢    ⎥, ⎢    ⎥, ⎢    ⎥, ⎢    ⎥, ⎢   \n",
       "  ⎣25/2⎦  ⎣17/2⎦  ⎣25/2⎦  ⎣17/2⎦  ⎣25/2⎦  ⎣25/2⎦  ⎣33/2⎦  ⎣25/2⎦  ⎣33/2⎦  ⎣25/\n",
       "\n",
       " ⎤  ⎡ 55 ⎤  ⎡ 68 ⎤  ⎡ 55 ⎤  ⎡ 68 ⎤  ⎡ 55 ⎤  ⎡ 68 ⎤  ⎡ 55 ⎤  ⎡ 68 ⎤  ⎡ 81 ⎤  ⎡ \n",
       " ⎥, ⎢    ⎥, ⎢    ⎥, ⎢    ⎥, ⎢    ⎥, ⎢    ⎥, ⎢    ⎥, ⎢    ⎥, ⎢    ⎥, ⎢    ⎥, ⎢ \n",
       "2⎦  ⎣33/2⎦  ⎣41/2⎦  ⎣33/2⎦  ⎣41/2⎦  ⎣33/2⎦  ⎣41/2⎦  ⎣33/2⎦  ⎣41/2⎦  ⎣49/2⎦  ⎣4\n",
       "\n",
       "68 ⎤  ⎡ 81 ⎤⎤\n",
       "   ⎥, ⎢    ⎥⎥\n",
       "1/2⎦  ⎣49/2⎦⎦"
      ]
     },
     "execution_count": 31,
     "metadata": {},
     "output_type": "execute_result"
    }
   ],
   "source": [
    "[f(v) for v in [[x,y]for x in range(80)for y in range(80)] if (int(f(v)[0])==f(v)[0] or int(f(v)[1]) == f(v)[1])]"
   ]
  }
 ],
 "metadata": {
  "kernelspec": {
   "display_name": "Python 3",
   "language": "python",
   "name": "python3"
  },
  "language_info": {
   "codemirror_mode": {
    "name": "ipython",
    "version": 3
   },
   "file_extension": ".py",
   "mimetype": "text/x-python",
   "name": "python",
   "nbconvert_exporter": "python",
   "pygments_lexer": "ipython3",
   "version": "3.6.2"
  }
 },
 "nbformat": 4,
 "nbformat_minor": 2
}
