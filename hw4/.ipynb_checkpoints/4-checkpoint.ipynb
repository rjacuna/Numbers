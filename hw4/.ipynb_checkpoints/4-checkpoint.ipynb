{
 "cells": [
  {
   "cell_type": "code",
   "execution_count": 1,
   "metadata": {
    "collapsed": true
   },
   "outputs": [],
   "source": [
    "from sympy import *\n",
    "init_printing(use_unicode=True)"
   ]
  },
  {
   "cell_type": "code",
   "execution_count": 15,
   "metadata": {},
   "outputs": [],
   "source": [
    "def l(m):\n",
    "def r(m):\n",
    "    return {x**2%m for x in range(m)}"
   ]
  },
  {
   "cell_type": "markdown",
   "metadata": {},
   "source": [
    "# 1\n",
    "\n",
    "Find all the quadratic residues of 3"
   ]
  },
  {
   "cell_type": "code",
   "execution_count": 14,
   "metadata": {},
   "outputs": [
    {
     "name": "stdout",
     "output_type": "stream",
     "text": [
      "0&0\\equiv0(\\text{mod} 3)\\\\\n",
      "1&1\\equiv1(\\text{mod} 3)\\\\\n",
      "2&4\\equiv1(\\text{mod} 3)\\\\\n"
     ]
    },
    {
     "data": {
      "text/plain": [
       "[None, None, None]"
      ]
     },
     "execution_count": 14,
     "metadata": {},
     "output_type": "execute_result"
    }
   ],
   "source": [
    "l(3)"
   ]
  },
  {
   "cell_type": "code",
   "execution_count": 16,
   "metadata": {},
   "outputs": [
    {
     "name": "stdout",
     "output_type": "stream",
     "text": [
      "0 & 0\\enskip \\equiv \\enskip0(\\text{mod} 3)\\\\\n",
      "1 & 1\\enskip \\equiv \\enskip1(\\text{mod} 3)\\\\\n",
      "2 & 4\\enskip \\equiv \\enskip4(\\text{mod} 3)\\\\\n",
      "3 & 9\\enskip \\equiv \\enskip9(\\text{mod} 3)\\\\\n",
      "4 & 16\\enskip \\equiv \\enskip16(\\text{mod} 3)\\\\\n",
      "5 & 25\\enskip \\equiv \\enskip6(\\text{mod} 3)\\\\\n",
      "6 & 36\\enskip \\equiv \\enskip17(\\text{mod} 3)\\\\\n",
      "7 & 49\\enskip \\equiv \\enskip11(\\text{mod} 3)\\\\\n",
      "8 & 64\\enskip \\equiv \\enskip7(\\text{mod} 3)\\\\\n",
      "9 & 81\\enskip \\equiv \\enskip5(\\text{mod} 3)\\\\\n",
      "10 & 100\\enskip \\equiv \\enskip5(\\text{mod} 3)\\\\\n",
      "11 & 121\\enskip \\equiv \\enskip7(\\text{mod} 3)\\\\\n",
      "12 & 144\\enskip \\equiv \\enskip11(\\text{mod} 3)\\\\\n",
      "13 & 169\\enskip \\equiv \\enskip17(\\text{mod} 3)\\\\\n",
      "14 & 196\\enskip \\equiv \\enskip6(\\text{mod} 3)\\\\\n",
      "15 & 225\\enskip \\equiv \\enskip16(\\text{mod} 3)\\\\\n",
      "16 & 256\\enskip \\equiv \\enskip9(\\text{mod} 3)\\\\\n",
      "17 & 289\\enskip \\equiv \\enskip4(\\text{mod} 3)\\\\\n",
      "18 & 324\\enskip \\equiv \\enskip1(\\text{mod} 3)\\\\\n"
     ]
    },
    {
     "data": {
      "text/plain": [
       "[None,\n",
       " None,\n",
       " None,\n",
       " None,\n",
       " None,\n",
       " None,\n",
       " None,\n",
       " None,\n",
       " None,\n",
       " None,\n",
       " None,\n",
       " None,\n",
       " None,\n",
       " None,\n",
       " None,\n",
       " None,\n",
       " None,\n",
       " None,\n",
       " None]"
      ]
     },
     "execution_count": 16,
     "metadata": {},
     "output_type": "execute_result"
    }
   ],
   "source": [
    "l(19)"
   ]
  }
 ],
 "metadata": {
  "kernelspec": {
   "display_name": "Python 3",
   "language": "python",
   "name": "python3"
  },
  "language_info": {
   "codemirror_mode": {
    "name": "ipython",
    "version": 3
   },
   "file_extension": ".py",
   "mimetype": "text/x-python",
   "name": "python",
   "nbconvert_exporter": "python",
   "pygments_lexer": "ipython3",
   "version": "3.6.2"
  }
 },
 "nbformat": 4,
 "nbformat_minor": 2
}
