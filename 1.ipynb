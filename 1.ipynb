{
 "cells": [
  {
   "cell_type": "code",
   "execution_count": 2,
   "metadata": {
    "collapsed": true
   },
   "outputs": [],
   "source": [
    "from sympy import *\n",
    "init_printing(use_unicode=True)"
   ]
  },
  {
   "cell_type": "markdown",
   "metadata": {},
   "source": [
    "# 1. \n",
    "Show that, for all positive integers $n$, $3$ $|\\quad 7^n − 1$\n",
    "\n",
    "Pf. \n",
    "\n",
    "$» 0 «$:\n",
    "\n",
    "$\\forall n \\in \\mathbb{Z}: \\exists q \\in \\{z \\in \\mathbb{Z}|\\quad 0 \\leq z < 3\\} = \\{0, 1 , 2\\}:  n\\equiv q$ (mod 3) \n",
    "\n",
    "$» 1 «$:\n",
    "\n",
    "$7^0 = 1 \\equiv 1$ (mod 3) and\n",
    "\n",
    "$7^1 = 7 = 2*3 + 1\\equiv 1$ (mod 3) and\n",
    "\n",
    "$7^2 = 49 = 16*3 + 1 \\equiv 1$ (mod 3)\n",
    "\n",
    "===========================================\n",
    "\n",
    "$» 0 «$ and $» 1 «$ $\\implies 7^n \\equiv 1$ (mod 3)\n",
    "\n",
    "$\\implies 7^n -1 \\equiv 0$ (mod 3)\n",
    "\n",
    "$\\implies \\exists k \\in \\mathbb{Z}:  7^n -1 = 3k$\n",
    "\n",
    "$\\implies 3$ $|\\quad 7^n − 1$\n",
    "\n",
    "$\\blacksquare$"
   ]
  },
  {
   "cell_type": "markdown",
   "metadata": {},
   "source": [
    "# 2\n",
    "\n",
    "2. Do there exist integers $x, y$ satisfying $48x − 156y = 66$?\n",
    "\n",
    "No, because:\n",
    "\n",
    "$48x − 156y = 66$\n",
    "\n",
    "$6|\\quad 48$ and $6|\\quad 156$ and $6|\\quad 66$\n",
    "\n",
    "$(48/6)x − (156/6)y = 66/6 \\implies 8x-26y = 11$\n",
    "\n",
    "Assume $8x-26y \\equiv 11 $(mod 4)\n",
    "\n",
    "$\\implies 2\\cdot4x-6\\cdot4y \\equiv 11 $(mod 4)\n",
    "\n",
    "$\\implies (2x-6y)\\cdot 4 \\equiv 11 $(mod 4)\n",
    "\n",
    "$\\implies 0 \\equiv 11 $(mod 4)\n",
    "\n",
    "$\\implies 0 \\equiv 2*4 +3 $(mod 4)\n",
    "\n",
    "$\\implies 0 \\equiv 3 $(mod 4)\n",
    "\n",
    "$\\implies$ false\n",
    "\n",
    "By contradiction $\\not\\exists x,y \\in \\mathbb{Z}:$ $8x-26y \\equiv 11 $(mod 4)\n",
    "\n",
    "$\\implies$ $\\not\\exists x,y \\in \\mathbb{Z}:$ $8x-26y = 11$\n"
   ]
  },
  {
   "cell_type": "markdown",
   "metadata": {},
   "source": [
    "# 3\n",
    "\n",
    "Compute the remainder of $37^{102}$ divided by 12.\n",
    "\n",
    "$37^{102} \\equiv 37^{102} $ (mod 12)\n",
    "\n",
    "$\\implies 37^{102} \\equiv (3\\cdot12 +1)^{102} \\equiv 1^{102} \\equiv 1 $ (mod 12)\n",
    "\n",
    "$\\implies \\exists k\\in \\mathbb{Z}:  37^{102} = k12 + 1$\n",
    "\n",
    "$\\implies $ 1 is the remainder of $37^{102}$ divided by 12."
   ]
  },
  {
   "cell_type": "code",
   "execution_count": 7,
   "metadata": {},
   "outputs": [
    {
     "data": {
      "image/png": "[encoded data removed]",
      "text/latex": [
       "$$1$$"
      ],
      "text/plain": [
       "1"
      ]
     },
     "execution_count": 7,
     "metadata": {},
     "output_type": "execute_result"
    }
   ],
   "source": [
    "37**102%12"
   ]
  },
  {
   "cell_type": "markdown",
   "metadata": {},
   "source": [
    "Checked by computer too $\\uparrow$"
   ]
  },
  {
   "cell_type": "markdown",
   "metadata": {},
   "source": [
    "# 4\n",
    "\n",
    "Show that for an integer $n, n^2$\n",
    "cannot be of the form $3k + 2$ (for $k$ an integer).\n",
    "\n",
    "pf.\n",
    "\n",
    "Suppose $\\exists n \\in \\mathbb{Z}:\\exists k \\in \\mathbb{Z}:  n^2 = 3k + 2$\n",
    "\n",
    "\n",
    "$\\implies n^2 \\equiv 3k + 2$ (mod 3) \n",
    "\n",
    "$\\implies n^2 \\equiv 2$ (mod 3) $\\quad » 0 «$\n",
    "\n",
    "$\\forall n \\in \\mathbb{Z}: \\exists q \\in \\{z\\in \\mathbb{Z}|\\quad 0\\leq z < 2\\} = \\{0,1,2\\} : n \\equiv q$ (mod 3) \n",
    "\n",
    "$0^2 = 0 \\equiv 0$ (mod3) and \n",
    "\n",
    "$1^2 = 1 \\equiv 1$ (mod3) and\n",
    "\n",
    "$2^2 = 4 = 3 + 1 \\equiv 1$ (mod3)\n",
    "\n",
    "$\\implies \\not\\exists n \\in \\mathbb{Z}: n^2 \\equiv 2$ (mod 3) $\\quad » 1 «$\n",
    "\n",
    "$» 0 « \\rightarrow \\leftarrow » 1 «$ Contradiction\n",
    "\n",
    "So, $\\not\\exists n \\in \\mathbb{Z}:\\exists k \\in \\mathbb{Z}:  n^2 = 3k + 2$\n",
    "\n",
    "$\\blacksquare$"
   ]
  },
  {
   "cell_type": "markdown",
   "metadata": {},
   "source": [
    "# 5\n",
    "\n",
    "(Challenge problem) Prove that among any $n + 1$ integers (where $n$ is a natural number), there\n",
    "are at least two whose difference is divisible by $n$. (Hint: think about the remainders these\n",
    "integers give when divided by $n$.)\n",
    "\n",
    "pf.\n",
    "\n",
    "$(\\forall n \\in \\mathbb{N})(X\\subset \\mathbb{Z}: |X|=n+1)$\n",
    "$\\implies X = \\{x_1, ... ,x_{n+1}\\}$\n",
    "\n",
    "$(\\forall i \\in \\{1, ... ,n+1\\})(\\exists q \\in \\{1, ... ,n-1\\})(x_i\\equiv q ($mod $n))$ $» 0 «$\n",
    "\n",
    "There, are two cases: \n",
    "\n",
    "I. $(\\exists i,j \\in \\{1, ... ,n+1\\})(x_i\\equiv x_j\\quad ($mod $n))$ \n",
    "\n",
    "II. $(\\forall i,j \\in \\{1, ... ,n+1\\})(x_i\\not\\equiv x_j)$\n",
    "\n",
    "We can safely assume that the first $n-1$, elements of $X$ are congruent to $\\{1, ... ,n-1\\}$ $($mod $n)$ up to reindexing. If, they weren't then there would be repetition in the first $n-1$ elements and we would have case I.\n",
    "\n",
    "Now, consider $x_n$. It has to be congruent to $q \\in \\{1, ... ,n-1\\}$ $($mod $n)$ by $» 0 «$. \n",
    "\n",
    "$\\implies \\exists x_k \\in \\{x_1, ... x_{n-1}\\}: x_n \\equiv x_k$ $» 1 «$\n",
    "\n",
    "II.$\\rightarrow \\leftarrow » 1 «$ Contradiction\n",
    "\n",
    "So there's only case I.\n",
    "\n",
    "$\\implies x_i-x_j \\equiv 0$ $($ mod $n)$\n",
    "\n",
    "$\\implies x_i-x_j = kn$\n",
    "\n",
    "$\\implies$ $(\\forall n \\in \\mathbb{N})(X\\subset \\mathbb{Z}: |X|=n+1)$\n",
    "$(\\exists x_i,x_j \\in X)(n$ $|\\quad x_i -x_j)$ \n",
    "\n",
    "$\\blacksquare$"
   ]
  }
 ],
 "metadata": {
  "kernelspec": {
   "display_name": "Python 3",
   "language": "python",
   "name": "python3"
  },
  "language_info": {
   "codemirror_mode": {
    "name": "ipython",
    "version": 3
   },
   "file_extension": ".py",
   "mimetype": "text/x-python",
   "name": "python",
   "nbconvert_exporter": "python",
   "pygments_lexer": "ipython3",
   "version": "3.6.2"
  }
 },
 "nbformat": 4,
 "nbformat_minor": 2
}
