{
 "cells": [
  {
   "cell_type": "code",
   "execution_count": 1,
   "metadata": {
    "collapsed": true
   },
   "outputs": [],
   "source": [
    "from sympy import *\n",
    "init_printing(use_unicode=True)"
   ]
  },
  {
   "cell_type": "markdown",
   "metadata": {},
   "source": [
    "# 1 \n",
    "\n",
    "The cancellation property for arithmetic modulo m does NOT hold. \n",
    "In other words, the statement:\n",
    "\n",
    "For $ a, b, c, m$ integers, $ca ≡ cb$ $($mod $m$) $⇒ a ≡ b$ $($mod $m)$\n",
    "\n",
    "is false. Show that the statement is false by obtaining a counterexample (i.e., find some integers\n",
    "$a, b, c, m$ for which the statement is false)."
   ]
  },
  {
   "cell_type": "markdown",
   "metadata": {},
   "source": [
    "$(\\forall a, b, c, m \\in \\mathbb{Z})($ $ca ≡ cb$ $($mod $m$) $⇒ a ≡ b$ $($mod $m))$\n",
    "\n",
    "$(\\forall a, b \\in \\mathbb{Z})($ $6\\cdot a ≡ 6\\cdot b$ $($mod $8$) $⇒ a ≡ b$ $($mod $8))$\n",
    "\n",
    "$8= 2\\cdot 6 + 2 \\implies gcd(6,8) = 2 \\implies \\not\\exists 6^{-1} (\\mod 8)$"
   ]
  },
  {
   "cell_type": "code",
   "execution_count": 21,
   "metadata": {},
   "outputs": [
    {
     "data": {
      "image/png": "[encoded data removed]",
      "text/latex": [
       "$$\\left [ \\left [ \\left ( 0, \\quad 0\\right ), \\quad \\left ( 0, \\quad 4\\right )\\right ], \\quad \\left [ \\left ( 6, \\quad 6\\right ), \\quad \\left ( 1, \\quad 5\\right )\\right ], \\quad \\left [ \\left ( 4, \\quad 4\\right ), \\quad \\left ( 2, \\quad 6\\right )\\right ], \\quad \\left [ \\left ( 2, \\quad 2\\right ), \\quad \\left ( 3, \\quad 7\\right )\\right ], \\quad \\left [ \\left ( 0, \\quad 0\\right ), \\quad \\left ( 4, \\quad 0\\right )\\right ], \\quad \\left [ \\left ( 6, \\quad 6\\right ), \\quad \\left ( 5, \\quad 1\\right )\\right ], \\quad \\left [ \\left ( 4, \\quad 4\\right ), \\quad \\left ( 6, \\quad 2\\right )\\right ], \\quad \\left [ \\left ( 2, \\quad 2\\right ), \\quad \\left ( 7, \\quad 3\\right )\\right ]\\right ]$$"
      ],
      "text/plain": [
       "[[(0, 0), (0, 4)], [(6, 6), (1, 5)], [(4, 4), (2, 6)], [(2, 2), (3, 7)], [(0, \n",
       "0), (4, 0)], [(6, 6), (5, 1)], [(4, 4), (6, 2)], [(2, 2), (7, 3)]]"
      ]
     },
     "execution_count": 21,
     "metadata": {},
     "output_type": "execute_result"
    }
   ],
   "source": [
    "[[(6*a%8,6*b%8),(a,b)] for a in range(8) for b in range(8) if (6*a%8 == 6*b%8 and not(a == b)) ]"
   ]
  },
  {
   "cell_type": "markdown",
   "metadata": {},
   "source": [
    "$0= 6\\cdot 0 \\equiv 6\\cdot 4 = 3\\cdot 8\\equiv 0\\quad ($mod $ 8)$, but $\\quad 0\\not\\equiv 4\\quad ($mod $ 8)$"
   ]
  },
  {
   "cell_type": "code",
   "execution_count": 124,
   "metadata": {},
   "outputs": [],
   "source": [
    "def P (c,m):\n",
    "    X = [[(c*a%m,c*b%m),(a,b)] \n",
    "            for a in range(m) \n",
    "            for b in range(m) \n",
    "            if (c*a%m == c*b%m and not(a == b))]\n",
    "    if X == []:\n",
    "        return False\n",
    "    else:\n",
    "        a = str(X[0][1][0])\n",
    "        b = str(X[0][1][1])\n",
    "        ca = str(X[0][0][0])\n",
    "        cb = str(X[0][0][1])\n",
    "        c = str(c)\n",
    "        m = str(m)\n",
    "        print(str('$'+ ca +' = ' + c + '\\\\' + 'cdot ' + a \n",
    "                  + ' \\\\'+'equiv '+ c + '\\\\' + 'cdot ' + b \n",
    "                  + ' = ' + cb   + '\\\\quad ($mod $'+ m +')'\n",
    "                  + '$, but $\\quad' + a + ' \\\\not\\\\equiv '\n",
    "                  + b + '\\\\quad ($mod $'+ m+')$'))"
   ]
  },
  {
   "cell_type": "code",
   "execution_count": 114,
   "metadata": {},
   "outputs": [
    {
     "name": "stdout",
     "output_type": "stream",
     "text": [
      "$0 = 15\\cdot 0 \\equiv 15\\cdot 7 = 0\\quad ($mod $105)$, but $\\quad0 \\not\\equiv 7\\quad ($mod $105)$\n"
     ]
    }
   ],
   "source": [
    "P(15,105)"
   ]
  },
  {
   "cell_type": "markdown",
   "metadata": {},
   "source": [
    "$0 = 15\\cdot 0 \\equiv 15\\cdot 7 = 0\\quad ($mod $105)$, but $\\quad0 \\not\\equiv 7\\quad ($mod $105)$\n"
   ]
  },
  {
   "cell_type": "code",
   "execution_count": 115,
   "metadata": {},
   "outputs": [
    {
     "name": "stdout",
     "output_type": "stream",
     "text": [
      "$0 = 19\\cdot 0 \\equiv 19\\cdot 3 = 0\\quad ($mod $57)$, but $\\quad0 \\not\\equiv 3\\quad ($mod $57)$\n"
     ]
    }
   ],
   "source": [
    "P(19,19*3)"
   ]
  },
  {
   "cell_type": "markdown",
   "metadata": {},
   "source": [
    "$0 = 19\\cdot 0 \\equiv 19\\cdot 3 = 0\\quad ($mod $57)$, but $\\quad0 \\not\\equiv 3\\quad ($mod $57)$\n"
   ]
  },
  {
   "cell_type": "code",
   "execution_count": 126,
   "metadata": {},
   "outputs": [
    {
     "data": {
      "text/plain": [
       "False"
      ]
     },
     "execution_count": 126,
     "metadata": {},
     "output_type": "execute_result"
    }
   ],
   "source": [
    "P(20,19*3)"
   ]
  },
  {
   "cell_type": "markdown",
   "metadata": {},
   "source": [
    "# 2\n",
    "Find the smallest positive integer $n$ (greater than $1$) such that $4^n ≡ 4\\quad$ $($mod $13)$. Use this to find\n",
    "all the (finitely many) possible values of $4^m\\quad ($mod $13)$ (where $m$ ranges over all positive integers)."
   ]
  },
  {
   "cell_type": "code",
   "execution_count": 156,
   "metadata": {},
   "outputs": [
    {
     "data": {
      "image/png": "[encoded data removed]",
      "text/latex": [
       "$$7$$"
      ],
      "text/plain": [
       "7"
      ]
     },
     "execution_count": 156,
     "metadata": {},
     "output_type": "execute_result"
    }
   ],
   "source": [
    "[x for x in range(2,13) if 4**x%13 == 4][0]"
   ]
  },
  {
   "cell_type": "code",
   "execution_count": 137,
   "metadata": {},
   "outputs": [
    {
     "data": {
      "image/png": "[encoded data removed]",
      "text/latex": [
       "$$4$$"
      ],
      "text/plain": [
       "4"
      ]
     },
     "execution_count": 137,
     "metadata": {},
     "output_type": "execute_result"
    }
   ],
   "source": [
    "4**7%13"
   ]
  },
  {
   "cell_type": "code",
   "execution_count": 160,
   "metadata": {},
   "outputs": [
    {
     "data": {
      "image/png": "[encoded data removed]",
      "text/latex": [
       "$$\\left [ 3, \\quad 12, \\quad 9, \\quad 10, \\quad 1, \\quad 4\\right ]$$"
      ],
      "text/plain": [
       "[3, 12, 9, 10, 1, 4]"
      ]
     },
     "execution_count": 160,
     "metadata": {},
     "output_type": "execute_result"
    }
   ],
   "source": [
    "[4**x%13 for x in range(2,8)]"
   ]
  },
  {
   "cell_type": "markdown",
   "metadata": {},
   "source": [
    "Since, we were interested in the smallest $n$: $4^n\\equiv 4\\quad ($ mod $8): 1 < n$, we only needed to check from $2$ to $12$. As al numbers greater than $12$ are congruent to $q \\in \\{0,1,2,3,4,5,6,7,8,9,10,11,12\\}$. We found that $n = 7$. Since, after $7$ the solutions cycle, to find the finitely many values of $4^m\\quad ($ mod $8): 1 < m$, we only needed to check $2$ to $7$. And, indeed we found them to be $\\{1,3,4,9,10,12\\}$, appearing in the order above. Below we check that indeed is the case that those are the ones by checking the next 42 powers. (Totally uncessary as the proof is in the book, but kind of fun so...)"
   ]
  },
  {
   "cell_type": "code",
   "execution_count": 168,
   "metadata": {},
   "outputs": [
    {
     "data": {
      "image/png": "[encoded data removed]",
      "text/latex": [
       "$$\\left [ 3, \\quad 12, \\quad 9, \\quad 10, \\quad 1, \\quad 4, \\quad 3, \\quad 12, \\quad 9, \\quad 10, \\quad 1, \\quad 4, \\quad 3, \\quad 12, \\quad 9, \\quad 10, \\quad 1, \\quad 4, \\quad 3, \\quad 12, \\quad 9, \\quad 10, \\quad 1, \\quad 4, \\quad 3, \\quad 12, \\quad 9, \\quad 10, \\quad 1, \\quad 4, \\quad 3, \\quad 12, \\quad 9, \\quad 10, \\quad 1, \\quad 4, \\quad 3, \\quad 12, \\quad 9, \\quad 10, \\quad 1, \\quad 4, \\quad 3, \\quad 12, \\quad 9, \\quad 10, \\quad 1, \\quad 4\\right ]$$"
      ],
      "text/plain": [
       "[3, 12, 9, 10, 1, 4, 3, 12, 9, 10, 1, 4, 3, 12, 9, 10, 1, 4, 3, 12, 9, 10, 1, \n",
       "4, 3, 12, 9, 10, 1, 4, 3, 12, 9, 10, 1, 4, 3, 12, 9, 10, 1, 4, 3, 12, 9, 10, 1\n",
       ", 4]"
      ]
     },
     "execution_count": 168,
     "metadata": {},
     "output_type": "execute_result"
    }
   ],
   "source": [
    "[4**x%13 for x in range(2,50)]"
   ]
  },
  {
   "cell_type": "markdown",
   "metadata": {},
   "source": [
    "# 3\n",
    "Use modular arithmetic to show that $x^2 + 19y^2 = 431$ does not admit integer solutions $x$ and $y$."
   ]
  },
  {
   "cell_type": "markdown",
   "metadata": {},
   "source": [
    "pf."
   ]
  },
  {
   "cell_type": "code",
   "execution_count": 193,
   "metadata": {},
   "outputs": [],
   "source": [
    "def Q (m): \n",
    "    return [(x,y) for x in range(m) \n",
    "                  for y in range(m) \n",
    "            if (x**2+19*y**2)%m == 431%m]"
   ]
  },
  {
   "cell_type": "code",
   "execution_count": 194,
   "metadata": {},
   "outputs": [
    {
     "data": {
      "image/png": "[encoded data removed]",
      "text/latex": [
       "$$\\left [ 0, \\quad 19, \\quad 38\\right ]$$"
      ],
      "text/plain": [
       "[0, 19, 38]"
      ]
     },
     "execution_count": 194,
     "metadata": {},
     "output_type": "execute_result"
    }
   ],
   "source": [
    "[x for x in range(50) if Q(x) == []]"
   ]
  },
  {
   "cell_type": "code",
   "execution_count": 195,
   "metadata": {},
   "outputs": [
    {
     "data": {
      "image/png": "[encoded data removed]",
      "text/latex": [
       "$$\\left [ \\right ]$$"
      ],
      "text/plain": [
       "[]"
      ]
     },
     "execution_count": 195,
     "metadata": {},
     "output_type": "execute_result"
    }
   ],
   "source": [
    "Q(19)"
   ]
  },
  {
   "cell_type": "code",
   "execution_count": 222,
   "metadata": {},
   "outputs": [
    {
     "data": {
      "image/png": "[encoded data removed]",
      "text/latex": [
       "$$\\left\\{0, 1, 4, 5, 6, 7, 9, 11, 16, 17\\right\\}$$"
      ],
      "text/plain": [
       "set([0, 1, 4, 5, 6, 7, 9, 11, 16, 17])"
      ]
     },
     "execution_count": 222,
     "metadata": {},
     "output_type": "execute_result"
    }
   ],
   "source": [
    "{(x**2+19*y**2)%19 for x in range(19) for y in range(19)}"
   ]
  },
  {
   "cell_type": "code",
   "execution_count": 199,
   "metadata": {},
   "outputs": [
    {
     "data": {
      "image/png": "[encoded data removed]",
      "text/latex": [
       "$$13$$"
      ],
      "text/plain": [
       "13"
      ]
     },
     "execution_count": 199,
     "metadata": {},
     "output_type": "execute_result"
    }
   ],
   "source": [
    "431%19"
   ]
  },
  {
   "cell_type": "markdown",
   "metadata": {},
   "source": [
    "Since $($mod $19)$ $x^2+19y^2=431$ becomes, $x^2\\equiv 13\\quad ($mod $19)$ \n"
   ]
  },
  {
   "cell_type": "code",
   "execution_count": 202,
   "metadata": {},
   "outputs": [
    {
     "data": {
      "image/png": "[encoded data removed]",
      "text/latex": [
       "$$\\left\\{0, 1, 4, 5, 6, 7, 9, 11, 16, 17\\right\\}$$"
      ],
      "text/plain": [
       "set([0, 1, 4, 5, 6, 7, 9, 11, 16, 17])"
      ]
     },
     "execution_count": 202,
     "metadata": {},
     "output_type": "execute_result"
    }
   ],
   "source": [
    "{(x**2)%19 for x in range(19)}"
   ]
  },
  {
   "cell_type": "markdown",
   "metadata": {},
   "source": [
    "And the squares $($mod $19)$ are in  $X = \\{0,1,4,5,6,7,9,11,16,17\\}$. Sine $13\\not\\in X$. There are no solution $($mod $19)$ to $x^2 + 19y^2 = 431$. So, there's no solution to $x^2 + 19y^2 = 431$ over the integers.\n",
    "\n",
    "$\\blacksquare$"
   ]
  },
  {
   "cell_type": "code",
   "execution_count": 209,
   "metadata": {},
   "outputs": [
    {
     "data": {
      "image/png": "[encoded data removed]",
      "text/latex": [
       "$$\\left [ \\left ( 0, \\quad 1\\right ), \\quad \\left ( 0, \\quad 3\\right ), \\quad \\left ( 2, \\quad 1\\right ), \\quad \\left ( 2, \\quad 3\\right )\\right ]$$"
      ],
      "text/plain": [
       "[(0, 1), (0, 3), (2, 1), (2, 3)]"
      ]
     },
     "execution_count": 209,
     "metadata": {},
     "output_type": "execute_result"
    }
   ],
   "source": [
    "Q(4)"
   ]
  },
  {
   "cell_type": "code",
   "execution_count": 211,
   "metadata": {},
   "outputs": [
    {
     "data": {
      "image/png": "[encoded data removed]",
      "text/latex": [
       "$$23$$"
      ],
      "text/plain": [
       "23"
      ]
     },
     "execution_count": 211,
     "metadata": {},
     "output_type": "execute_result"
    }
   ],
   "source": [
    "2**2+19*1**2"
   ]
  },
  {
   "cell_type": "code",
   "execution_count": 213,
   "metadata": {},
   "outputs": [
    {
     "data": {
      "image/png": "[encoded data removed]",
      "text/latex": [
       "$$3$$"
      ],
      "text/plain": [
       "3"
      ]
     },
     "execution_count": 213,
     "metadata": {},
     "output_type": "execute_result"
    }
   ],
   "source": [
    "23%4"
   ]
  },
  {
   "cell_type": "code",
   "execution_count": 215,
   "metadata": {},
   "outputs": [
    {
     "data": {
      "image/png": "[encoded data removed]",
      "text/latex": [
       "$$3$$"
      ],
      "text/plain": [
       "3"
      ]
     },
     "execution_count": 215,
     "metadata": {},
     "output_type": "execute_result"
    }
   ],
   "source": [
    "431%4"
   ]
  },
  {
   "cell_type": "markdown",
   "metadata": {},
   "source": [
    "So it's really crucial to check as many moduli as you can. The computer found that from $0$ to $50$ only $19$ and $38$ give you the right answer. But, well $38=2\\cdot 19$ so really only $19$ works. (Again, just for fun I'm going to run it for 200 moduli, and see if the ones that give the answer are all multiples of 19...)"
   ]
  },
  {
   "cell_type": "code",
   "execution_count": 220,
   "metadata": {},
   "outputs": [
    {
     "data": {
      "image/png": "[encoded data removed]",
      "text/latex": [
       "$$\\left [ 0, \\quad 0, \\quad 0, \\quad 0, \\quad 0, \\quad 0, \\quad 0, \\quad 0, \\quad 0, \\quad 0, \\quad 0\\right ]$$"
      ],
      "text/plain": [
       "[0, 0, 0, 0, 0, 0, 0, 0, 0, 0, 0]"
      ]
     },
     "execution_count": 220,
     "metadata": {},
     "output_type": "execute_result"
    }
   ],
   "source": [
    "[x%19 for x in range(200) if Q(x) == []]"
   ]
  },
  {
   "cell_type": "markdown",
   "metadata": {},
   "source": [
    "yes!"
   ]
  },
  {
   "cell_type": "markdown",
   "metadata": {},
   "source": [
    "# 4\n",
    "If $4x^2 − 3y^2 = 1$ for some integers $x$ and $y$, show that $x$ and $y$ are relatively prime"
   ]
  },
  {
   "cell_type": "markdown",
   "metadata": {},
   "source": [
    "pf.\n",
    "\n",
    "$4x^2 − 3y^2 = 1\\implies 4x\\cdot x -3y\\cdot y =1$\n",
    "\n",
    "$\\implies 1$ is a linear combination of $x$ and $y$, \n",
    "\n",
    "$\\iff x$ and $y$ are relatively prime (by Corollary 1 in Lazebnik's Notes)\n",
    "\n",
    "$\\square$"
   ]
  },
  {
   "cell_type": "markdown",
   "metadata": {},
   "source": [
    "# 5\n",
    "Show that gcd$(n, 2n + 1) = 1$."
   ]
  },
  {
   "cell_type": "markdown",
   "metadata": {},
   "source": [
    "pf.\n",
    "\n",
    "gcd$(n, 2n + 1) =$ gcd$(n, 2n+1 -2n) =$ gcd$(n,1 +2n-2n)$ = gcd$(n,1 + 0) =$ gcd$(n,1)$ $=$ gcd$(1,n)$ = 1\n",
    "\n",
    "$\\square$"
   ]
  }
 ],
 "metadata": {
  "kernelspec": {
   "display_name": "Python 3",
   "language": "python",
   "name": "python3"
  },
  "language_info": {
   "codemirror_mode": {
    "name": "ipython",
    "version": 3
   },
   "file_extension": ".py",
   "mimetype": "text/x-python",
   "name": "python",
   "nbconvert_exporter": "python",
   "pygments_lexer": "ipython3",
   "version": "3.6.2"
  }
 },
 "nbformat": 4,
 "nbformat_minor": 2
}
