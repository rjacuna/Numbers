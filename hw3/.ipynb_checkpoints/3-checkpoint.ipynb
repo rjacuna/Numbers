{
 "cells": [
  {
   "cell_type": "code",
   "execution_count": 11,
   "metadata": {
    "collapsed": true
   },
   "outputs": [],
   "source": [
    "from sympy import *\n",
    "init_printing(use_unicode=True)"
   ]
  },
  {
   "cell_type": "code",
   "execution_count": 14,
   "metadata": {
    "collapsed": true
   },
   "outputs": [],
   "source": [
    "def div (b, a):\n",
    "    q = floor(b/a)\n",
    "    r = b - floor(b/a)*a\n",
    "    c = q*a + r\n",
    "    if b == c: return [q, a , r]\n",
    "    else: return \"error\""
   ]
  },
  {
   "cell_type": "code",
   "execution_count": 15,
   "metadata": {},
   "outputs": [
    {
     "data": {
      "image/png": "[encoded data removed]",
      "text/latex": [
       "$$\\left [ 1, \\quad 2, \\quad 1\\right ]$$"
      ],
      "text/plain": [
       "[1, 2, 1]"
      ]
     },
     "execution_count": 15,
     "metadata": {},
     "output_type": "execute_result"
    }
   ],
   "source": [
    "div(3,2)"
   ]
  },
  {
   "cell_type": "code",
   "execution_count": 16,
   "metadata": {
    "collapsed": true
   },
   "outputs": [],
   "source": [
    "def gcd(a,b):\n",
    "    q, a , r = div(b,a)\n",
    "    print(str(b)+\" = \"+str(q)+\"\\\\cdot\"+str(a)+\" + \"+str(r)+ \"\\\\\\\\\")\n",
    "    if (r == 0): print(a)\n",
    "    else: gcd(r,a)"
   ]
  },
  {
   "cell_type": "code",
   "execution_count": 17,
   "metadata": {},
   "outputs": [
    {
     "name": "stdout",
     "output_type": "stream",
     "text": [
      "53 = 1\\cdot37 + 16\\\\\n",
      "37 = 2\\cdot16 + 5\\\\\n",
      "16 = 3\\cdot5 + 1\\\\\n",
      "5 = 5\\cdot1 + 0\\\\\n",
      "1\n"
     ]
    }
   ],
   "source": [
    "gcd(37,53)"
   ]
  },
  {
   "cell_type": "code",
   "execution_count": 148,
   "metadata": {
    "collapsed": true
   },
   "outputs": [],
   "source": [
    "def GCD(a,b,V):\n",
    "    q, a , r = div(b,a)\n",
    "    V = V + [[b,q,a,r]]\n",
    "    return {x[3]:{x[0]:{-1*x[1]: x[2]}} for x in V[:-1][::-1]} if (r == 0) else GCD(r,a,V)"
   ]
  },
  {
   "cell_type": "code",
   "execution_count": 150,
   "metadata": {},
   "outputs": [
    {
     "data": {
      "image/png": "[encoded data removed]",
      "text/latex": [
       "$$\\left \\{ 1 : \\left \\{ 16 : \\left \\{ -3 : 5\\right \\}\\right \\}, \\quad 5 : \\left \\{ 37 : \\left \\{ -2 : 16\\right \\}\\right \\}, \\quad 16 : \\left \\{ 53 : \\left \\{ -1 : 37\\right \\}\\right \\}\\right \\}$$"
      ],
      "text/plain": [
       "{1: {16: {-3: 5}}, 5: {37: {-2: 16}}, 16: {53: {-1: 37}}}"
      ]
     },
     "execution_count": 150,
     "metadata": {},
     "output_type": "execute_result"
    }
   ],
   "source": [
    "A = L(37,53,[])\n",
    "A"
   ]
  }
 ],
 "metadata": {
  "kernelspec": {
   "display_name": "Python 3",
   "language": "python",
   "name": "python3"
  },
  "language_info": {
   "codemirror_mode": {
    "name": "ipython",
    "version": 3
   },
   "file_extension": ".py",
   "mimetype": "text/x-python",
   "name": "python",
   "nbconvert_exporter": "python",
   "pygments_lexer": "ipython3",
   "version": "3.6.2"
  }
 },
 "nbformat": 4,
 "nbformat_minor": 2
}
